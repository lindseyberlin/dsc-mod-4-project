{
 "cells": [
  {
   "cell_type": "markdown",
   "metadata": {},
   "source": [
    "## \"What are the top 5 best zipcodes for us to invest in?\""
   ]
  },
  {
   "cell_type": "markdown",
   "metadata": {},
   "source": [
    "Based on the prompt above, let's define our approach to the project:\n",
    "\n",
    "- Our goal is to predict the five zip codes that would yield the greatest increase in price, thus greatest return on investment, over the next year after investing. Since our goal is to predict the next year, we will use the last 12 months of data (5/2017 - 4/2018) to analyze how well our model performs against the most recent year. \n",
    "\n",
    "- Our approach will first involve different subsets in order to predict future price, such as previous 2 years, previous 5 years, years since the 2008 financial crisis, all available data, broken up by state or by metro area, etc. What we present may only involve some of these subsets, depending on time constraints and the success of our models.\n",
    "\n",
    "- Our modeling approach will be to use a SARIMA model on zipcode-level data which we have made more stationary through differencing to detrend our time series.\n",
    "\n",
    "- We are assuming that the values provided per zipcode in our initial data are some kind of aggregate estimated market value for homes sold within that zipcode. "
   ]
  },
  {
   "cell_type": "code",
   "execution_count": null,
   "metadata": {},
   "outputs": [],
   "source": []
  }
 ],
 "metadata": {
  "kernelspec": {
   "display_name": "Python 3",
   "language": "python",
   "name": "python3"
  },
  "language_info": {
   "codemirror_mode": {
    "name": "ipython",
    "version": 3
   },
   "file_extension": ".py",
   "mimetype": "text/x-python",
   "name": "python",
   "nbconvert_exporter": "python",
   "pygments_lexer": "ipython3",
   "version": "3.7.3"
  }
 },
 "nbformat": 4,
 "nbformat_minor": 2
}
